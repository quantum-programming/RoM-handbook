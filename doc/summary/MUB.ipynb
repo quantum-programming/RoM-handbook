{
 "cells": [
  {
   "cell_type": "markdown",
   "metadata": {},
   "source": [
    "# Mutually Unbiased Basis"
   ]
  },
  {
   "cell_type": "markdown",
   "metadata": {},
   "source": [
    "## Introduction\n",
    "\n",
    "What is Mutually Unbiased Basis (MUB)?\n",
    "\n",
    "Wikipedia: https://en.wikipedia.org/wiki/Mutually_unbiased_bases\n",
    "\n",
    "### How to Construct MUB?\n",
    "\n",
    "cite this paper: https://link-springer-com.utokyo.idm.oclc.org/chapter/10.1007/978-3-540-24633-6_10#:~:text=Two%20orthonormal%20bases%20B%20and,d%20cannot%20exceed%20d%20%2B%201.\n",
    "\n",
    "Section 3"
   ]
  },
  {
   "cell_type": "code",
   "execution_count": 27,
   "metadata": {},
   "outputs": [
    {
     "name": "stdout",
     "output_type": "stream",
     "text": [
      "t = 0\n",
      "(2+0j)\n",
      "(1.00093372462206+0j)\n",
      "(0.5+0j)\n",
      "(-10.591953275521519+0j)\n",
      "t = 1\n",
      "(0.021566609373100978+0j)\n",
      "(4.0349758522378056e-05+0j)\n",
      "(0.5+0j)\n",
      "(0.021566609373100953+0j)\n",
      "t = (3+3j)\n",
      "(0.5-0.0044916455105670754j)\n",
      "(0.5-8.387890764473475e-06j)\n",
      "(0.5+3.624736257993971e-07j)\n",
      "(0.5+0.10393978817538106j)\n",
      "t = 1j\n",
      "-2.5091784786580567j\n",
      "(0.5-0.10843143368594568j)\n",
      "(0.5+0.00019410160196338318j)\n",
      "55.66338089043867j\n"
     ]
    }
   ],
   "source": [
    "import math\n",
    "import cmath\n",
    "from functools import reduce\n",
    "\n",
    "# Failed... Maybe using 1j is not good?\n",
    "\n",
    "T2 = [0, 1, 3j + 3, 1j]\n",
    "\n",
    "\n",
    "def tr(a, b):\n",
    "    # n=2\n",
    "    return a + 2 * b + a**2 + 2 * (b**2)\n",
    "\n",
    "\n",
    "def v_ab(n, a, b):\n",
    "    return 2 ** (-n / 2) * sum(\n",
    "        cmath.exp(2 * math.pi * 1j / 4 * tr(a, b) * x) for x in T2\n",
    "    )\n",
    "\n",
    "\n",
    "n = 2\n",
    "for t in T2:\n",
    "    print(f\"t = {t}\")\n",
    "    for b in T2:\n",
    "        ret = v_ab(n, t, b)\n",
    "        real = ret.real\n",
    "        imag = ret.imag\n",
    "        if abs(real) < 1e-8:\n",
    "            real = 0\n",
    "        if abs(imag) < 1e-8:\n",
    "            imag = 0\n",
    "        if abs(real - 1 / 2) < 0.01:\n",
    "            real = 1 / 2\n",
    "        if abs(imag - 1 / 2) < 0.01:\n",
    "            imag = 1 / 2\n",
    "        print(real + 1j * imag)"
   ]
  },
  {
   "cell_type": "markdown",
   "metadata": {},
   "source": [
    "(Anyway, We can construct MUB.)"
   ]
  },
  {
   "cell_type": "markdown",
   "metadata": {},
   "source": [
    "## Proposition\n",
    "\n",
    "MUBs can generate M_n\n",
    "\n",
    "### How to Construct\n",
    "\n",
    "(You can gave this code to ChatGPT to obtain pseudocode)\n",
    "\n",
    "```python\n",
    "for base in MUB:\n",
    "    for state in base:\n",
    "        psi = np.array(state, dtype=complex)\n",
    "        rho = np.outer(psi, psi.conj())\n",
    "        state_in_Pauli = state_in_pauli_basis(rho)\n",
    "        yield state_in_Pauli\n",
    "```\n",
    "\n",
    "### Proof\n",
    "\n",
    "By the paper you read?\n"
   ]
  },
  {
   "cell_type": "markdown",
   "metadata": {},
   "source": [
    "## (Numerical Example)"
   ]
  },
  {
   "cell_type": "code",
   "execution_count": 14,
   "metadata": {},
   "outputs": [
    {
     "name": "stdout",
     "output_type": "stream",
     "text": [
      "MUB1:\n"
     ]
    },
    {
     "data": {
      "image/png": "[encoded data removed]",
      "text/plain": [
       "<Figure size 640x480 with 1 Axes>"
      ]
     },
     "metadata": {},
     "output_type": "display_data"
    },
    {
     "name": "stdout",
     "output_type": "stream",
     "text": [
      "MUB2:\n"
     ]
    },
    {
     "data": {
      "image/png": "[encoded data removed]",
      "text/plain": [
       "<Figure size 640x480 with 1 Axes>"
      ]
     },
     "metadata": {},
     "output_type": "display_data"
    }
   ],
   "source": [
    "import numpy as np\n",
    "import matplotlib.pyplot as plt\n",
    "from exputils.state.state_in_pauli_basis import state_in_pauli_basis\n",
    "\n",
    "sq2 = 2**0.5\n",
    "MUB1 = [\n",
    "    [[1, 0], [0, 1]],\n",
    "    [[1 / sq2, 1 / sq2], [1 / sq2, -1 / sq2]],\n",
    "    [[1 / sq2, 1j / sq2], [1 / sq2, -1j / sq2]],\n",
    "]\n",
    "MUB2 = [\n",
    "    [[1, 0, 0, 0], [0, 1, 0, 0], [0, 0, 1, 0], [0, 0, 0, 1]],\n",
    "    [\n",
    "        [1 / 2, 1 / 2, 1 / 2, 1 / 2],\n",
    "        [1 / 2, 1 / 2, -1 / 2, -1 / 2],\n",
    "        [1 / 2, -1 / 2, -1 / 2, 1 / 2],\n",
    "        [1 / 2, -1 / 2, 1 / 2, -1 / 2],\n",
    "    ],\n",
    "    [\n",
    "        [1 / 2, -1 / 2, -1j / 2, -1j / 2],\n",
    "        [1 / 2, -1 / 2, 1j / 2, 1j / 2],\n",
    "        [1 / 2, 1 / 2, 1j / 2, -1j / 2],\n",
    "        [1 / 2, 1 / 2, -1j / 2, 1j / 2],\n",
    "    ],\n",
    "    [\n",
    "        [1 / 2, -1j / 2, -1j / 2, -1 / 2],\n",
    "        [1 / 2, -1j / 2, 1j / 2, 1 / 2],\n",
    "        [1 / 2, 1j / 2, 1j / 2, -1 / 2],\n",
    "        [1 / 2, 1j / 2, -1j / 2, 1 / 2],\n",
    "    ],\n",
    "    [\n",
    "        [1 / 2, -1j / 2, -1 / 2, -1j / 2],\n",
    "        [1 / 2, -1j / 2, 1 / 2, 1j / 2],\n",
    "        [1 / 2, 1j / 2, -1 / 2, 1j / 2],\n",
    "        [1 / 2, 1j / 2, 1 / 2, -1j / 2],\n",
    "    ],\n",
    "]\n",
    "\n",
    "for n, MUB in enumerate([MUB1, MUB2], start=1):\n",
    "    print(f\"MUB{n}:\")\n",
    "    states = []\n",
    "    for base in MUB:\n",
    "        for state in base:\n",
    "            psi = np.array(state, dtype=complex)\n",
    "            assert np.isclose(np.linalg.norm(psi) ** 2, 1)\n",
    "            rho = np.outer(psi, psi.conj())\n",
    "            state_in_Pauli = state_in_pauli_basis(rho)\n",
    "            states.append(state_in_Pauli)\n",
    "    states = np.array(states)\n",
    "    plt.imshow(states.T)\n",
    "    plt.show()"
   ]
  }
 ],
 "metadata": {
  "kernelspec": {
   "display_name": ".venv",
   "language": "python",
   "name": "python3"
  },
  "language_info": {
   "codemirror_mode": {
    "name": "ipython",
    "version": 3
   },
   "file_extension": ".py",
   "mimetype": "text/x-python",
   "name": "python",
   "nbconvert_exporter": "python",
   "pygments_lexer": "ipython3",
   "version": "3.10.4"
  }
 },
 "nbformat": 4,
 "nbformat_minor": 2
}
