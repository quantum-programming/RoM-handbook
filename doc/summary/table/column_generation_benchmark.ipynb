{
 "cells": [
  {
   "cell_type": "code",
   "execution_count": 1,
   "metadata": {},
   "outputs": [],
   "source": [
    "import numpy as np\n",
    "from exputils.RoM.actual import calculate_RoM_actual\n",
    "from exputils.RoM.custom import calculate_RoM_custom\n",
    "from exputils.state.random import make_random_quantum_state\n",
    "from exputils.RoM.dot import get_topK_indices, make_Amat_from_column_index\n",
    "from scipy.sparse import hstack\n",
    "from exputils.dot.dot_product import compute_all_dot_products\n",
    "from exputils.dot.load_data import load_dot_data\n",
    "from time import perf_counter"
   ]
  },
  {
   "cell_type": "code",
   "execution_count": 2,
   "metadata": {},
   "outputs": [],
   "source": [
    "eps = 10**-5"
   ]
  },
  {
   "cell_type": "code",
   "execution_count": 3,
   "metadata": {},
   "outputs": [],
   "source": [
    "def column_generation(\n",
    "    n,\n",
    "    rho,\n",
    "    K,\n",
    "):\n",
    "    data_per_col, rows_per_col = load_dot_data(n)\n",
    "    rho_dots = compute_all_dot_products(n, rho, data_per_col, rows_per_col)\n",
    "    indices = get_topK_indices(rho_dots, K)\n",
    "    current_Amat = make_Amat_from_column_index(n, indices, data_per_col, rows_per_col)\n",
    "    while True:\n",
    "        RoM, _, dual = calculate_RoM_custom(\n",
    "            current_Amat,\n",
    "            rho,\n",
    "            method=\"gurobi\",\n",
    "            return_dual=True,\n",
    "            crossover=False,\n",
    "            presolve=False,\n",
    "        )\n",
    "\n",
    "        if np.isnan(RoM):\n",
    "            return RoM\n",
    "\n",
    "        dual_dots = compute_all_dot_products(n, dual, data_per_col, rows_per_col)\n",
    "        dual_violated_indices = np.abs(dual_dots) > 1 + eps\n",
    "        violated_count = np.sum(dual_violated_indices)\n",
    "\n",
    "        if violated_count == 0:\n",
    "            return RoM\n",
    "        else:\n",
    "            indices = np.where(dual_violated_indices)[0]\n",
    "            extra_Amat = make_Amat_from_column_index(\n",
    "                n, indices, data_per_col, rows_per_col\n",
    "            )\n",
    "        current_Amat = hstack((current_Amat, extra_Amat))"
   ]
  },
  {
   "cell_type": "code",
   "execution_count": 4,
   "metadata": {},
   "outputs": [],
   "source": [
    "def column_generation_discard(\n",
    "    n,\n",
    "    rho,\n",
    "    K,\n",
    "    discard_current_threshold,\n",
    "):\n",
    "    data_per_col, rows_per_col = load_dot_data(n)\n",
    "    rho_dots = compute_all_dot_products(n, rho, data_per_col, rows_per_col)\n",
    "    indices = get_topK_indices(rho_dots, K)\n",
    "    current_Amat = make_Amat_from_column_index(n, indices, data_per_col, rows_per_col)\n",
    "    while True:\n",
    "        RoM, coeff, dual = calculate_RoM_custom(\n",
    "            current_Amat,\n",
    "            rho,\n",
    "            method=\"gurobi\",\n",
    "            return_dual=True,\n",
    "            crossover=False,\n",
    "            presolve=False,\n",
    "        )\n",
    "\n",
    "        if np.isnan(RoM):\n",
    "            return RoM\n",
    "\n",
    "        dual_dots = compute_all_dot_products(n, dual, data_per_col, rows_per_col)\n",
    "        dual_violated_indices = np.abs(dual_dots) > 1 + eps\n",
    "        violated_count = np.sum(dual_violated_indices)\n",
    "\n",
    "        # restrict current Amat\n",
    "        nonbasic_indices = np.abs(coeff) > eps\n",
    "        critical_indices = np.abs(dual @ current_Amat) >= (\n",
    "            discard_current_threshold - eps\n",
    "        )\n",
    "        remain_indices = np.logical_or(nonbasic_indices, critical_indices)\n",
    "        current_Amat = current_Amat[:, remain_indices]\n",
    "\n",
    "        if violated_count == 0:\n",
    "            return RoM\n",
    "        else:\n",
    "            indices = np.where(dual_violated_indices)[0]\n",
    "            extra_Amat = make_Amat_from_column_index(\n",
    "                n, indices, data_per_col, rows_per_col\n",
    "            )\n",
    "        current_Amat = hstack((current_Amat, extra_Amat))"
   ]
  },
  {
   "cell_type": "markdown",
   "metadata": {},
   "source": [
    "### benchmark"
   ]
  },
  {
   "cell_type": "code",
   "execution_count": 5,
   "metadata": {},
   "outputs": [],
   "source": [
    "n = 5\n",
    "rho = make_random_quantum_state(\"mixed\", n, 999)\n",
    "\n",
    "K = 0.005"
   ]
  },
  {
   "cell_type": "code",
   "execution_count": 6,
   "metadata": {},
   "outputs": [
    {
     "name": "stdout",
     "output_type": "stream",
     "text": [
      "Set parameter Username\n",
      "Academic license - for non-commercial use only - expires 2024-06-16\n",
      "4.930721553999319\n"
     ]
    }
   ],
   "source": [
    "# warm up for caching\n",
    "start = perf_counter()\n",
    "RoM_cg = column_generation(n, rho, K)\n",
    "end = perf_counter()\n",
    "assert not np.isnan(RoM_cg)\n",
    "print(end - start)"
   ]
  },
  {
   "cell_type": "code",
   "execution_count": 7,
   "metadata": {},
   "outputs": [
    {
     "name": "stdout",
     "output_type": "stream",
     "text": [
      "0\n",
      "5.266581851999945\n",
      "1\n",
      "4.766703998000594\n",
      "2\n",
      "4.941473894999945\n",
      "3\n",
      "5.180784238000342\n",
      "4\n",
      "5.5144107039996015\n",
      "5\n",
      "4.672717871999339\n",
      "6\n",
      "4.7594281019992195\n",
      "7\n",
      "5.217170906998945\n",
      "8\n",
      "6.178248479998729\n",
      "9\n",
      "4.33026479900218\n"
     ]
    }
   ],
   "source": [
    "times_cg = []\n",
    "for seed in range(10):\n",
    "    print(seed)\n",
    "    rho = make_random_quantum_state(\"mixed\", n, seed)\n",
    "\n",
    "    start = perf_counter()\n",
    "    RoM_cg = column_generation(n, rho, K)\n",
    "    end = perf_counter()\n",
    "    assert not np.isnan(RoM_cg)\n",
    "    print(end - start)\n",
    "    times_cg.append(end - start)"
   ]
  },
  {
   "cell_type": "code",
   "execution_count": 8,
   "metadata": {},
   "outputs": [
    {
     "name": "stdout",
     "output_type": "stream",
     "text": [
      "5.082778484699884\n",
      "0.4905775273568628\n"
     ]
    }
   ],
   "source": [
    "print(np.mean(times_cg[:10]))\n",
    "print(np.std(times_cg[:10]))"
   ]
  },
  {
   "cell_type": "code",
   "execution_count": 9,
   "metadata": {},
   "outputs": [],
   "source": [
    "discard_current_threshold = 0.9"
   ]
  },
  {
   "cell_type": "code",
   "execution_count": 10,
   "metadata": {},
   "outputs": [
    {
     "name": "stdout",
     "output_type": "stream",
     "text": [
      "2.0876536020005005\n"
     ]
    }
   ],
   "source": [
    "# warm up for caching\n",
    "rho = make_random_quantum_state(\"mixed\", n, 999)\n",
    "\n",
    "start = perf_counter()\n",
    "RoM_cg = column_generation_discard(n, rho, K, discard_current_threshold)\n",
    "end = perf_counter()\n",
    "assert not np.isnan(RoM_cg)\n",
    "print(end - start)"
   ]
  },
  {
   "cell_type": "code",
   "execution_count": 11,
   "metadata": {},
   "outputs": [
    {
     "name": "stdout",
     "output_type": "stream",
     "text": [
      "0\n",
      "2.107932068000082\n",
      "1\n",
      "2.247236094000982\n",
      "2\n",
      "2.3499844139987545\n",
      "3\n",
      "2.3346061470001587\n",
      "4\n",
      "2.5250588189992413\n",
      "5\n",
      "2.0028024050006934\n",
      "6\n",
      "1.9490256159988348\n",
      "7\n",
      "2.3386435929969593\n",
      "8\n",
      "2.8588698509993264\n",
      "9\n",
      "1.9349171350004326\n"
     ]
    }
   ],
   "source": [
    "times_dis = []\n",
    "for seed in range(10):\n",
    "    print(seed)\n",
    "    rho = make_random_quantum_state(\"mixed\", n, seed)\n",
    "\n",
    "    start = perf_counter()\n",
    "    RoM_dis = column_generation_discard(n, rho, K, discard_current_threshold)\n",
    "    end = perf_counter()\n",
    "    assert not np.isnan(RoM_dis)\n",
    "    print(end - start)\n",
    "    times_dis.append(end - start)"
   ]
  },
  {
   "cell_type": "code",
   "execution_count": 12,
   "metadata": {},
   "outputs": [
    {
     "name": "stdout",
     "output_type": "stream",
     "text": [
      "2.2649076141995463\n",
      "0.27209017412983405\n"
     ]
    }
   ],
   "source": [
    "print(np.mean(times_dis[:10]))\n",
    "print(np.std(times_dis[:10]))"
   ]
  },
  {
   "cell_type": "markdown",
   "metadata": {},
   "source": [
    "---"
   ]
  },
  {
   "cell_type": "code",
   "execution_count": 13,
   "metadata": {},
   "outputs": [
    {
     "name": "stdout",
     "output_type": "stream",
     "text": [
      "114.01958278600068\n"
     ]
    }
   ],
   "source": [
    "# warm up for caching\n",
    "start = perf_counter()\n",
    "RoM_lp = calculate_RoM_actual(n, rho, method=\"gurobi\", crossover=False)[0]\n",
    "end = perf_counter()\n",
    "assert not np.isnan(RoM_lp)\n",
    "print(end - start)"
   ]
  },
  {
   "cell_type": "code",
   "execution_count": 14,
   "metadata": {},
   "outputs": [
    {
     "name": "stdout",
     "output_type": "stream",
     "text": [
      "0\n",
      "113.90787842999998\n",
      "1\n",
      "113.64439415000015\n",
      "2\n",
      "111.51517917100136\n",
      "3\n",
      "118.93526448100238\n",
      "4\n",
      "118.87568161299714\n",
      "5\n",
      "115.76000435199967\n",
      "6\n",
      "126.26192376600011\n",
      "7\n",
      "119.96230427299815\n",
      "8\n",
      "125.79034131899971\n",
      "9\n",
      "115.59787922000032\n"
     ]
    }
   ],
   "source": [
    "times_lp = []\n",
    "for seed in range(10):\n",
    "    print(seed)\n",
    "    rho = make_random_quantum_state(\"mixed\", n, seed)\n",
    "\n",
    "    start = perf_counter()\n",
    "    RoM_lp = calculate_RoM_actual(n, rho, method=\"gurobi\", crossover=False)[0]\n",
    "    end = perf_counter()\n",
    "    assert not np.isnan(RoM_lp)\n",
    "    print(end - start)\n",
    "    times_lp.append(end - start)"
   ]
  },
  {
   "cell_type": "code",
   "execution_count": 15,
   "metadata": {},
   "outputs": [
    {
     "name": "stdout",
     "output_type": "stream",
     "text": [
      "118.0250850774999\n",
      "4.722204069715391\n"
     ]
    }
   ],
   "source": [
    "print(np.mean(times_lp[:10]))\n",
    "print(np.std(times_lp[:10]))"
   ]
  }
 ],
 "metadata": {
  "kernelspec": {
   "display_name": "Python 3",
   "language": "python",
   "name": "python3"
  },
  "language_info": {
   "codemirror_mode": {
    "name": "ipython",
    "version": 3
   },
   "file_extension": ".py",
   "mimetype": "text/x-python",
   "name": "python",
   "nbconvert_exporter": "python",
   "pygments_lexer": "ipython3",
   "version": "3.10.12"
  },
  "orig_nbformat": 4
 },
 "nbformat": 4,
 "nbformat_minor": 2
}
