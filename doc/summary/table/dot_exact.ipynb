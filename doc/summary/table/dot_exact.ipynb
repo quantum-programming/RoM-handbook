{
 "cells": [
  {
   "cell_type": "code",
   "execution_count": 1,
   "metadata": {},
   "outputs": [],
   "source": [
    "import numpy as np\n",
    "from tqdm.auto import tqdm\n",
    "\n",
    "from exputils.RoM.actual import calculate_RoM_actual\n",
    "from exputils.RoM.dot import calculate_RoM_dot\n",
    "from exputils.state.random import make_random_quantum_state\n",
    "from exputils.state.tensor import make_random_tensor_product_state\n",
    "\n",
    "# from exputils.stabilizer_group import total_stabilizer_group_size\n",
    "\n",
    "\n",
    "def make_rho_vec(rho_vec_method: str, n_qubit: int, seed: int):\n",
    "    if rho_vec_method == \"mixed\":\n",
    "        rho_vec = make_random_quantum_state(rho_vec_method, n_qubit, seed)\n",
    "    elif rho_vec_method == \"pure\":\n",
    "        rho_vec = make_random_quantum_state(rho_vec_method, n_qubit, seed)\n",
    "    elif rho_vec_method == \"tensor\":\n",
    "        rho_vec = make_random_tensor_product_state(\"mixed\", n_qubit, seed)\n",
    "    elif rho_vec_method in [\"H\", \"F\"]:\n",
    "        rho_vec = make_random_tensor_product_state(rho_vec_method, n_qubit, seed)\n",
    "    else:\n",
    "        raise ValueError\n",
    "    return rho_vec"
   ]
  },
  {
   "cell_type": "code",
   "execution_count": 2,
   "metadata": {},
   "outputs": [
    {
     "name": "stdout",
     "output_type": "stream",
     "text": [
      "Set parameter Username\n",
      "Academic license - for non-commercial use only - expires 2024-06-16\n",
      "1.3993901695330042 1.3762097510033595 0.023180418529644697\n"
     ]
    }
   ],
   "source": [
    "# 4 qubit, mixed, seed = 0\n",
    "\n",
    "n_qubit = 4\n",
    "seed = 0\n",
    "\n",
    "rho_vec = make_rho_vec(\"mixed\", n_qubit, seed)\n",
    "\n",
    "sub_opt = calculate_RoM_dot(n_qubit, rho_vec, 0.05, method=\"gurobi\")[0]\n",
    "opt = calculate_RoM_actual(n_qubit, rho_vec, method=\"gurobi\")[0]\n",
    "\n",
    "print(sub_opt, opt, sub_opt - opt)"
   ]
  },
  {
   "cell_type": "code",
   "execution_count": 3,
   "metadata": {},
   "outputs": [
    {
     "data": {
      "application/vnd.jupyter.widget-view+json": {
       "model_id": "56b9a49a29a247a39c8907ee0a9369b1",
       "version_major": 2,
       "version_minor": 0
      },
      "text/plain": [
       "  0%|          | 0/100 [00:00<?, ?it/s]"
      ]
     },
     "metadata": {},
     "output_type": "display_data"
    },
    {
     "name": "stdout",
     "output_type": "stream",
     "text": [
      "0 0.317108154296875 0.31707763671875 2.220446049250313e-15\n",
      "1 0.450286865234375 0.45025634765625 0.0\n",
      "2 0.462982177734375 0.46295166015625 -2.220446049250313e-16\n",
      "3 0.64581298828125 0.645782470703125 2.220446049250313e-16\n",
      "4 0.3519287109375 0.351898193359375 -4.440892098500626e-16\n",
      "5 0.279144287109375 0.27911376953125 1.5543122344752192e-15\n",
      "6 0.316741943359375 0.31671142578125 1.1102230246251565e-15\n",
      "7 0.34637451171875 0.346343994140625 -8.881784197001252e-16\n",
      "8 0.196746826171875 0.19671630859375 -2.220446049250313e-16\n",
      "9 0.298095703125 0.298065185546875 -6.661338147750939e-16\n",
      "10 0.4080810546875 0.408050537109375 -1.3322676295501878e-15\n",
      "11 0.417877197265625 0.4178466796875 -6.661338147750939e-16\n",
      "12 0.444091796875 0.444061279296875 1.5543122344752192e-15\n",
      "13 0.59820556640625 0.598175048828125 -8.881784197001252e-16\n",
      "14 0.3363037109375 0.336273193359375 -6.661338147750939e-16\n",
      "15 0.5421142578125 0.542083740234375 0.0\n",
      "16 0.39996337890625 0.399932861328125 2.220446049250313e-16\n",
      "17 0.27752685546875 0.277496337890625 -6.661338147750939e-16\n",
      "18 0.19140625 0.191375732421875 -2.220446049250313e-16\n",
      "19 0.2606201171875 0.260589599609375 -2.220446049250313e-16\n",
      "20 0.440643310546875 0.44061279296875 1.5543122344752192e-15\n",
      "21 0.196197509765625 0.1961669921875 2.220446049250313e-16\n",
      "22 0.584716796875 0.584686279296875 6.661338147750939e-16\n",
      "23 0.3638916015625 0.363861083984375 1.5543122344752192e-15\n",
      "24 0.545166015625 0.545135498046875 0.0\n",
      "25 0.25164794921875 0.251617431640625 -6.661338147750939e-16\n",
      "26 0.413299560546875 0.41326904296875 0.0\n",
      "27 0.401824951171875 0.40179443359375 1.5543122344752192e-15\n",
      "28 0.534423828125 0.534393310546875 6.661338147750939e-16\n",
      "29 0.271087646484375 0.27105712890625 -4.440892098500626e-16\n",
      "30 0.458953857421875 0.45892333984375 2.220446049250313e-16\n",
      "31 0.55267333984375 0.552642822265625 1.7763568394002505e-15\n",
      "32 0.48504638671875 0.485015869140625 1.5543122344752192e-15\n",
      "33 0.23541259765625 0.235382080078125 2.220446049250313e-16\n",
      "34 0.434600830078125 0.4345703125 -1.1102230246251565e-15\n",
      "35 0.569122314453125 0.569091796875 -8.881784197001252e-16\n",
      "36 0.52947998046875 0.529449462890625 -1.3322676295501878e-15\n",
      "37 0.278656005859375 0.27862548828125 -4.440892098500626e-16\n",
      "38 0.33514404296875 0.335113525390625 6.661338147750939e-16\n",
      "39 0.50506591796875 0.505035400390625 2.220446049250313e-16\n",
      "40 0.356109619140625 0.3560791015625 -2.220446049250313e-16\n",
      "41 0.46014404296875 0.460113525390625 2.220446049250313e-15\n",
      "42 0.6234130859375 0.623382568359375 -1.7763568394002505e-15\n",
      "43 0.468109130859375 0.46807861328125 2.220446049250313e-16\n",
      "44 0.29315185546875 0.293121337890625 2.220446049250313e-15\n",
      "45 0.348541259765625 0.3485107421875 -4.440892098500626e-16\n",
      "46 0.667449951171875 0.66741943359375 -1.3322676295501878e-15\n",
      "47 0.36749267578125 0.367462158203125 1.9984014443252818e-15\n",
      "48 0.7012939453125 0.701263427734375 -2.4424906541753444e-15\n",
      "49 0.326812744140625 0.3267822265625 -2.220446049250313e-16\n",
      "50 0.24822998046875 0.248199462890625 -3.1086244689504383e-15\n",
      "51 0.550323486328125 0.55029296875 1.3322676295501878e-15\n",
      "52 0.40234375 0.402313232421875 1.5543122344752192e-15\n",
      "53 0.482696533203125 0.482666015625 -1.3322676295501878e-15\n",
      "54 0.381011962890625 0.3809814453125 1.7763568394002505e-15\n",
      "55 0.906158447265625 0.9061279296875 -4.440892098500626e-16\n",
      "56 0.421630859375 0.421600341796875 1.3322676295501878e-15\n",
      "57 0.450714111328125 0.45068359375 8.881784197001252e-16\n",
      "58 0.41204833984375 0.412017822265625 -1.3322676295501878e-15\n",
      "59 0.261077880859375 0.26104736328125 0.0\n",
      "60 0.2249755859375 0.224945068359375 0.0\n",
      "61 0.446258544921875 0.44622802734375 -4.440892098500626e-16\n",
      "62 0.573272705078125 0.5732421875 -6.661338147750939e-16\n",
      "63 0.51104736328125 0.511016845703125 0.0\n",
      "64 0.46484375 0.464813232421875 8.881784197001252e-16\n",
      "65 0.751495361328125 0.75146484375 -4.440892098500626e-16\n",
      "66 0.315673828125 0.315643310546875 -4.440892098500626e-16\n",
      "67 0.733123779296875 0.73309326171875 -4.440892098500626e-16\n",
      "68 0.806396484375 0.806365966796875 -1.3322676295501878e-15\n",
      "69 0.7811279296875 0.781097412109375 6.661338147750939e-16\n",
      "70 0.794342041015625 0.7943115234375 4.440892098500626e-16\n",
      "71 0.241668701171875 0.24163818359375 2.220446049250313e-16\n",
      "72 0.3123779296875 0.312347412109375 0.0\n",
      "73 0.57867431640625 0.578643798828125 1.9984014443252818e-15\n",
      "74 0.591644287109375 0.59161376953125 0.0\n",
      "75 0.497039794921875 0.49700927734375 -4.440892098500626e-16\n",
      "76 0.48199462890625 0.481964111328125 -6.661338147750939e-16\n",
      "77 0.431732177734375 0.43170166015625 0.0\n",
      "78 0.29510498046875 0.295074462890625 -4.440892098500626e-16\n",
      "79 0.559112548828125 0.55908203125 -8.881784197001252e-16\n",
      "80 0.511505126953125 0.511474609375 8.881784197001252e-16\n",
      "81 0.52911376953125 0.529083251953125 -2.886579864025407e-15\n",
      "82 0.407196044921875 0.40716552734375 4.440892098500626e-16\n",
      "83 0.433563232421875 0.43353271484375 -8.881784197001252e-16\n",
      "84 0.879302978515625 0.8792724609375 6.661338147750939e-16\n",
      "85 0.488311767578125 0.48828125 -2.220446049250313e-16\n",
      "86 0.41357421875 0.413543701171875 -2.220446049250313e-16\n",
      "87 0.503662109375 0.503631591796875 -8.881784197001252e-16\n",
      "88 0.394378662109375 0.39434814453125 -4.440892098500626e-16\n",
      "89 0.30340576171875 0.303375244140625 -1.3322676295501878e-15\n",
      "90 0.66351318359375 0.663482666015625 4.440892098500626e-16\n",
      "91 0.57049560546875 0.570465087890625 1.1102230246251565e-15\n",
      "92 0.344512939453125 0.344482421875 -1.1102230246251565e-15\n",
      "93 0.50787353515625 0.507843017578125 1.5543122344752192e-15\n",
      "94 0.356597900390625 0.3565673828125 2.220446049250313e-16\n",
      "95 0.4561767578125 0.456146240234375 1.7763568394002505e-15\n",
      "96 0.193084716796875 0.19305419921875 -1.9984014443252818e-15\n",
      "97 0.40106201171875 0.401031494140625 -8.881784197001252e-16\n",
      "98 0.46759033203125 0.467559814453125 -1.1102230246251565e-15\n",
      "99 0.2703857421875 0.270355224609375 -2.220446049250313e-16\n"
     ]
    }
   ],
   "source": [
    "# binary search\n",
    "\n",
    "n_qubit = 4\n",
    "\n",
    "thresholds = []\n",
    "for seed in tqdm(range(100)):\n",
    "    rho_vec = make_rho_vec(\"mixed\", n_qubit, seed)\n",
    "\n",
    "    RoM_exact = calculate_RoM_actual(n_qubit, rho_vec, method=\"gurobi\")[0]\n",
    "\n",
    "    eps = 10**-10\n",
    "\n",
    "    ng = 0\n",
    "    ok = 1\n",
    "\n",
    "    for _ in range(15):\n",
    "        K = (ng + ok) / 2\n",
    "        RoM = calculate_RoM_dot(n_qubit, rho_vec, K, method=\"gurobi\")[0]\n",
    "        if RoM < RoM_exact + eps:\n",
    "            ok = K\n",
    "            ok_RoM = RoM\n",
    "        else:\n",
    "            ng = K\n",
    "\n",
    "    print(seed, ok, ng, ok_RoM - RoM_exact)\n",
    "    thresholds.append(ok)"
   ]
  },
  {
   "cell_type": "code",
   "execution_count": 4,
   "metadata": {},
   "outputs": [
    {
     "name": "stdout",
     "output_type": "stream",
     "text": [
      "0.4454443359375\n",
      "0.15396106863662307\n"
     ]
    }
   ],
   "source": [
    "print(np.mean(thresholds))\n",
    "print(np.std(thresholds))"
   ]
  },
  {
   "cell_type": "code",
   "execution_count": 5,
   "metadata": {},
   "outputs": [
    {
     "data": {
      "text/plain": [
       "(array([11., 14., 16., 22., 15., 10.,  4.,  3.,  3.,  2.]),\n",
       " array([0.19140625, 0.26288147, 0.33435669, 0.40583191, 0.47730713,\n",
       "        0.54878235, 0.62025757, 0.69173279, 0.76320801, 0.83468323,\n",
       "        0.90615845]),\n",
       " <BarContainer object of 10 artists>)"
      ]
     },
     "execution_count": 5,
     "metadata": {},
     "output_type": "execute_result"
    },
    {
     "data": {
      "image/png": "[encoded data removed]",
      "text/plain": [
       "<Figure size 640x480 with 1 Axes>"
      ]
     },
     "metadata": {},
     "output_type": "display_data"
    }
   ],
   "source": [
    "import matplotlib.pyplot as plt\n",
    "\n",
    "plt.hist(thresholds)"
   ]
  },
  {
   "cell_type": "code",
   "execution_count": 6,
   "metadata": {},
   "outputs": [
    {
     "data": {
      "text/plain": [
       "(0.19140625, 0.906158447265625)"
      ]
     },
     "execution_count": 6,
     "metadata": {},
     "output_type": "execute_result"
    }
   ],
   "source": [
    "np.min(thresholds), np.max(thresholds)"
   ]
  },
  {
   "cell_type": "code",
   "execution_count": null,
   "metadata": {},
   "outputs": [],
   "source": []
  }
 ],
 "metadata": {
  "kernelspec": {
   "display_name": "Python 3",
   "language": "python",
   "name": "python3"
  },
  "language_info": {
   "codemirror_mode": {
    "name": "ipython",
    "version": 3
   },
   "file_extension": ".py",
   "mimetype": "text/x-python",
   "name": "python",
   "nbconvert_exporter": "python",
   "pygments_lexer": "ipython3",
   "version": "3.10.12"
  },
  "orig_nbformat": 4
 },
 "nbformat": 4,
 "nbformat_minor": 2
}
