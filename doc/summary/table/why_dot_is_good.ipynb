{
 "cells": [
  {
   "cell_type": "code",
   "execution_count": 1,
   "metadata": {},
   "outputs": [],
   "source": [
    "import numpy as np\n",
    "import matplotlib.pyplot as plt\n",
    "from exputils.RoM.dot import calculate_RoM_dot\n",
    "from exputils.dot.dot_product import compute_all_dot_products\n",
    "from exputils.state.random import make_random_quantum_state"
   ]
  },
  {
   "cell_type": "code",
   "execution_count": 2,
   "metadata": {},
   "outputs": [
    {
     "name": "stdout",
     "output_type": "stream",
     "text": [
      "Set parameter Username\n",
      "Academic license - for non-commercial use only - expires 2024-04-22\n"
     ]
    }
   ],
   "source": [
    "n_qubit = 4\n",
    "rho_vec = make_random_quantum_state(\"mixed\", n_qubit, 0)\n",
    "RoM, coeff, Amat = calculate_RoM_dot(n_qubit, rho_vec, method=\"gurobi\")"
   ]
  },
  {
   "cell_type": "code",
   "execution_count": 3,
   "metadata": {},
   "outputs": [
    {
     "data": {
      "text/plain": [
       "1.37967595211064"
      ]
     },
     "execution_count": 3,
     "metadata": {},
     "output_type": "execute_result"
    }
   ],
   "source": [
    "RoM"
   ]
  },
  {
   "cell_type": "code",
   "execution_count": 4,
   "metadata": {},
   "outputs": [],
   "source": [
    "p = (RoM - 1) / 2\n",
    "rho_p = np.sum(coeff[coeff > 0] * Amat[:, coeff > 0].toarray(), axis=1)\n",
    "rho_m = np.sum(coeff[coeff < 0] * Amat[:, coeff < 0].toarray(), axis=1)\n",
    "assert np.allclose(rho_p + rho_m, rho_vec)\n",
    "assert np.isclose(rho_p[0], 1 + p)\n",
    "assert np.isclose(rho_m[0], -p)\n",
    "rho_p /= 1 + p\n",
    "rho_m /= -p\n",
    "assert np.allclose((1 + p) * rho_p + (-p) * rho_m, rho_vec)\n",
    "assert np.isclose(rho_p[0], 1)\n",
    "assert np.isclose(rho_m[0], 1)"
   ]
  },
  {
   "cell_type": "code",
   "execution_count": 5,
   "metadata": {},
   "outputs": [
    {
     "name": "stdout",
     "output_type": "stream",
     "text": [
      "p=0.18983797605532005\n",
      "np.dot(rho_vec, rho_p)=1.6309129124619484\n",
      "np.dot(rho_vec, rho_m)=0.4755429377411309\n"
     ]
    }
   ],
   "source": [
    "print(f\"{p=}\")\n",
    "print(f\"{np.dot(rho_vec, rho_p)=}\")\n",
    "print(f\"{np.dot(rho_vec, rho_m)=}\")"
   ]
  },
  {
   "cell_type": "code",
   "execution_count": 6,
   "metadata": {},
   "outputs": [
    {
     "name": "stdout",
     "output_type": "stream",
     "text": [
      "np.linalg.norm(rho_vec, ord=2) ** 2=1.8502460100580354\n"
     ]
    }
   ],
   "source": [
    "dp = np.dot(rho_vec, rho_p)\n",
    "dm = np.dot(rho_vec, rho_m)\n",
    "print(f\"{np.linalg.norm(rho_vec, ord=2) ** 2=}\")\n",
    "assert np.isclose(p, (np.linalg.norm(rho_vec, ord=2) ** 2 - dp) / (dp - dm))"
   ]
  },
  {
   "cell_type": "code",
   "execution_count": 7,
   "metadata": {},
   "outputs": [
    {
     "name": "stdout",
     "output_type": "stream",
     "text": [
      "min(dots)=0.3112466224471387, max(dots)=1.9775861349507158\n"
     ]
    },
    {
     "data": {
      "image/png": "[encoded data removed]",
      "text/plain": [
       "<Figure size 640x480 with 1 Axes>"
      ]
     },
     "metadata": {},
     "output_type": "display_data"
    }
   ],
   "source": [
    "dots = compute_all_dot_products(n_qubit, rho_vec)\n",
    "print(f\"{min(dots)=}, {max(dots)=}\")\n",
    "plt.hist(dots, bins=100)\n",
    "plt.show()"
   ]
  },
  {
   "cell_type": "code",
   "execution_count": 8,
   "metadata": {},
   "outputs": [],
   "source": [
    "from exputils.st_norm import lb_by_st_norm\n",
    "from exputils.state.canonical_magic_state import (\n",
    "    make_canonical_magic_state_in_pauli_basis,\n",
    ")\n",
    "\n",
    "\n",
    "def lb_by_dot(n_qubit, rho_vec):\n",
    "    dots = compute_all_dot_products(n_qubit, rho_vec)\n",
    "    dp = np.max(dots)\n",
    "    dm = np.min(dots)\n",
    "    return 1 + 2 * (np.linalg.norm(rho_vec, ord=2) ** 2 - dp) / (dp - dm)"
   ]
  },
  {
   "cell_type": "code",
   "execution_count": 9,
   "metadata": {},
   "outputs": [
    {
     "name": "stdout",
     "output_type": "stream",
     "text": [
      "lb_by_st_norm(n_qubit, rho_vec)=0.8093178622185425\n",
      "lb_by_dot(n_qubit, rho_vec)=0.847161849146385\n"
     ]
    }
   ],
   "source": [
    "print(f\"{lb_by_st_norm(n_qubit, rho_vec)=}\")\n",
    "print(f\"{lb_by_dot(n_qubit, rho_vec)=}\")"
   ]
  },
  {
   "cell_type": "code",
   "execution_count": 10,
   "metadata": {},
   "outputs": [
    {
     "name": "stdout",
     "output_type": "stream",
     "text": [
      "lb_by_st_norm(n_qubit, rho_vec)=3.1269039581923277\n",
      "lb_by_dot(n_qubit, rho_vec)=4.171849096546902\n"
     ]
    }
   ],
   "source": [
    "n_qubit = 6\n",
    "rho_vec = make_canonical_magic_state_in_pauli_basis(n_qubit).toarray().flatten()\n",
    "\n",
    "print(f\"{lb_by_st_norm(n_qubit, rho_vec)=}\")\n",
    "print(f\"{lb_by_dot(n_qubit, rho_vec)=}\")"
   ]
  },
  {
   "attachments": {},
   "cell_type": "markdown",
   "metadata": {},
   "source": [
    "```python\n",
    "lb_by_st_norm(n_qubit, rho_vec)=3.1269039581923277\n",
    "lb_by_dot(n_qubit, rho_vec)=4.171849096546902\n",
    "true_RoM=4.73894\n",
    "```\n",
    "\n",
    "We get the better lower bound by using the dot product.\n"
   ]
  }
 ],
 "metadata": {
  "kernelspec": {
   "display_name": "StabilizerSimulator",
   "language": "python",
   "name": "python3"
  },
  "language_info": {
   "codemirror_mode": {
    "name": "ipython",
    "version": 3
   },
   "file_extension": ".py",
   "mimetype": "text/x-python",
   "name": "python",
   "nbconvert_exporter": "python",
   "pygments_lexer": "ipython3",
   "version": "3.10.11"
  },
  "orig_nbformat": 4
 },
 "nbformat": 4,
 "nbformat_minor": 2
}
