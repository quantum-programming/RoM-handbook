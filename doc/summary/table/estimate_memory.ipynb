{
 "cells": [
  {
   "cell_type": "markdown",
   "metadata": {},
   "source": [
    "# Estimate Memory\n",
    "\n",
    "This notebook estimates the memory required to store the Amat in the Scipy csc_matrix format.\n",
    "\n",
    "The document about the csc_matrix format is [here](https://docs.scipy.org/doc/scipy/reference/generated/scipy.sparse.csc_matrix.html).\n",
    "\n",
    "Also, We can confirm how the data type of indices and indptr is determined by [this implementation code](https://github.com/scipy/scipy/blob/v1.11.2/scipy/sparse/_compressed.py#L36), and especially about the dtype, [this code](https://github.com/scipy/scipy/blob/main/scipy/sparse/_sputils.py#L147)\n"
   ]
  },
  {
   "cell_type": "code",
   "execution_count": 1,
   "metadata": {},
   "outputs": [
    {
     "name": "stdout",
     "output_type": "stream",
     "text": [
      "4    2.942 MiB (3,084,484 B)\n",
      "5  379.045 MiB (397,457,284 B)\n",
      "6   95.068 GiB (102,078,662,404 B)\n",
      "7   85.757 TiB (94,290,438,528,008 B)\n",
      "8   85.795 PiB (96,596,327,459,174,408 B)\n",
      "====================\n",
      "4  301.223 KiB (308,452 B) with K=1.000000e-01\n",
      "5    3.790 MiB (3,974,544 B) with K=1.000000e-02\n",
      "6   97.350 MiB (102,078,796 B) with K=1.000000e-03\n",
      "7  499.224 MiB (523,474,760 B) with K=1.000000e-05\n",
      "8  511.608 MiB (536,460,340 B) with K=1.000000e-08\n"
     ]
    }
   ],
   "source": [
    "import numpy as np\n",
    "from exputils.actual_Amat import get_actual_Amat\n",
    "from exputils.stabilizer_group import total_stabilizer_group_size\n",
    "\n",
    "\n",
    "def estimate_each_memory(n: int, K: float = 1.0):\n",
    "    # https://github.com/scipy/scipy/blob/v1.11.2/scipy/sparse/_compressed.py#L36\n",
    "    M = 4**n\n",
    "    N = int(round(K * total_stabilizer_group_size(n)))\n",
    "    max_val = max(M, N)\n",
    "\n",
    "    # https://github.com/scipy/scipy/blob/main/scipy/sparse/_sputils.py#L147\n",
    "    int32max = np.int32(np.iinfo(np.int32).max)\n",
    "    dtype = np.int32 if np.intc().itemsize == 4 else np.int64\n",
    "    if max_val > int32max:\n",
    "        dtype = np.int64\n",
    "    idx_dtype_size = 4 if dtype == np.int32 else 8\n",
    "    assert K != 1.0 or (idx_dtype_size == 4 if n <= 6 else idx_dtype_size == 8)\n",
    "\n",
    "    sz = N\n",
    "\n",
    "    # the number of non-zero elements are (2**n) * sz\n",
    "\n",
    "    # 1 byte (np.int8)\n",
    "    data_estimate = 1 * (2**n) * sz\n",
    "\n",
    "    # 4 byte (np.int32) if max_val < 2**31 else 8 byte (np.int64)\n",
    "    indices_estimate = idx_dtype_size * ((2**n) * sz)\n",
    "    indptr_estimate = idx_dtype_size * (sz + 1)\n",
    "\n",
    "    return (data_estimate, indices_estimate, indptr_estimate)\n",
    "\n",
    "\n",
    "def check_each_memory(n):\n",
    "    Amat = get_actual_Amat(n)\n",
    "    return (Amat.data.nbytes, Amat.indices.nbytes, Amat.indptr.nbytes)\n",
    "\n",
    "\n",
    "# check the correctness\n",
    "for n in range(1, 5 + 1):\n",
    "    assert estimate_each_memory(n) == check_each_memory(n)\n",
    "\n",
    "for n in range(1, 8 + 1):\n",
    "    if n <= 6:\n",
    "        assert total_stabilizer_group_size(n) < 2**31\n",
    "    else:\n",
    "        assert total_stabilizer_group_size(n) > 2**31\n",
    "\n",
    "\n",
    "# estimate the memory\n",
    "unit = [\"B\", \"KiB\", \"MiB\", \"GiB\", \"TiB\", \"PiB\"]\n",
    "for n in range(4, 8 + 1):\n",
    "    memory = sum(estimate_each_memory(n))\n",
    "    exponent = 0\n",
    "    tmp = memory\n",
    "    while tmp / 1024 >= 1:\n",
    "        tmp /= 1024\n",
    "        exponent += 1\n",
    "    print(n, f\"{tmp:>8.3f} {unit[exponent]} ({memory:,} B)\")\n",
    "\n",
    "print(\"=\" * 20)\n",
    "\n",
    "# estimate the memory with K\n",
    "for n, K in [(4, 0.1), (5, 0.01), (6, 0.001), (7, 0.00001), (8, 0.00000001)]:\n",
    "    memory = sum(estimate_each_memory(n, K))\n",
    "    exponent = 0\n",
    "    tmp = memory\n",
    "    while tmp / 1024 >= 1:\n",
    "        tmp /= 1024\n",
    "        exponent += 1\n",
    "    print(n, f\"{tmp:>8.3f} {unit[exponent]} ({memory:,} B) with K={K:e}\")"
   ]
  },
  {
   "cell_type": "markdown",
   "metadata": {},
   "source": [
    "From this results, we can estimate the memory required to store the Amat as follows:\n",
    "\n",
    "```\n",
    "n=6: 95GiB\n",
    "n=7: 86TiB\n",
    "n=8: 86PiB\n",
    "```\n"
   ]
  },
  {
   "cell_type": "code",
   "execution_count": 2,
   "metadata": {},
   "outputs": [],
   "source": [
    "assert 0.1 == 10 ** (-1)\n",
    "assert 0.01 == 10 ** (-2)\n",
    "assert 0.001 == 10 ** (-3)\n",
    "assert 0.00001 == 10 ** (-5)\n",
    "assert 0.00000001 == 10 ** (-8)"
   ]
  }
 ],
 "metadata": {
  "kernelspec": {
   "display_name": ".venv",
   "language": "python",
   "name": "python3"
  },
  "language_info": {
   "codemirror_mode": {
    "name": "ipython",
    "version": 3
   },
   "file_extension": ".py",
   "mimetype": "text/x-python",
   "name": "python",
   "nbconvert_exporter": "python",
   "pygments_lexer": "ipython3",
   "version": "3.10.11"
  },
  "orig_nbformat": 4
 },
 "nbformat": 4,
 "nbformat_minor": 2
}
