{
 "cells": [
  {
   "cell_type": "code",
   "execution_count": 6,
   "metadata": {},
   "outputs": [
    {
     "data": {
      "application/vnd.jupyter.widget-view+json": {
       "model_id": "a79f236fb63b47fbbd740bc8a1583bca",
       "version_major": 2,
       "version_minor": 0
      },
      "text/plain": [
       "  0%|          | 0/100 [00:00<?, ?it/s]"
      ]
     },
     "metadata": {},
     "output_type": "display_data"
    },
    {
     "name": "stdout",
     "output_type": "stream",
     "text": [
      "25.545793517961602 \\pm 0.018299047956833927\n",
      "0.7988283438456045 \\pm 0.0005544557687705419\n",
      "31.97907948964125 \\pm 0.012625191412967179\n",
      "1.414121068777219 \\pm 5.58242209086292e-05\n"
     ]
    }
   ],
   "source": [
    "import numpy as np\n",
    "from exputils.st_norm import compute_st_norm\n",
    "from exputils.RoM.fwht import calculate_RoM_FWHT\n",
    "from exputils.state.random import make_random_quantum_state\n",
    "from tqdm.auto import tqdm\n",
    "\n",
    "n_qubit = 10\n",
    "SEED_CNT = 100\n",
    "\n",
    "RoMs = []\n",
    "st_norms = []\n",
    "ratios = []\n",
    "ratios_per_qubit = []\n",
    "\n",
    "for seed in tqdm(range(SEED_CNT)):\n",
    "    rho_vec = make_random_quantum_state(\"mixed\", n_qubit, seed)\n",
    "    st_norm = compute_st_norm(rho_vec)\n",
    "    assert np.isclose(st_norm, np.linalg.norm(rho_vec, ord=1) / (2**n_qubit))\n",
    "    RoM = calculate_RoM_FWHT(n_qubit, rho_vec)[0]\n",
    "    RoMs.append(RoM)\n",
    "    st_norms.append(st_norm)\n",
    "    ratios.append(RoM / st_norm)\n",
    "    ratios_per_qubit.append((RoM / st_norm) ** (1 / n_qubit))\n",
    "\n",
    "print(f\"{np.mean(RoMs)} \\pm {np.std(RoMs)}\")\n",
    "print(f\"{np.mean(st_norms)} \\pm {np.std(st_norms)}\")\n",
    "print(f\"{np.mean(ratios)} \\pm {np.std(ratios)}\")\n",
    "print(f\"{np.mean(ratios_per_qubit)} \\pm {np.std(ratios_per_qubit)}\")"
   ]
  },
  {
   "cell_type": "markdown",
   "metadata": {},
   "source": [
    "for ten qubits random mixed quantum state,\n",
    "\n",
    "$$\n",
    "    \\mathcal{R}(\\rho) =25.546 (\\text{SD: } 1.8300 \\times 10^{-2}) \\\\\n",
    "    \\left(\\frac{\\mathcal{R}(\\rho)}{||\\rho||_{\\text{st}}}\\right) ^ {1/n}=\n",
    "    1.41412 (\\text{SD: } 5.5824 \\times 10^{-5})\n",
    "$$\n"
   ]
  },
  {
   "cell_type": "markdown",
   "metadata": {},
   "source": []
  }
 ],
 "metadata": {
  "kernelspec": {
   "display_name": "StabilizerSimulator",
   "language": "python",
   "name": "python3"
  },
  "language_info": {
   "codemirror_mode": {
    "name": "ipython",
    "version": 3
   },
   "file_extension": ".py",
   "mimetype": "text/x-python",
   "name": "python",
   "nbconvert_exporter": "python",
   "pygments_lexer": "ipython3",
   "version": "3.10.11"
  },
  "orig_nbformat": 4
 },
 "nbformat": 4,
 "nbformat_minor": 2
}
