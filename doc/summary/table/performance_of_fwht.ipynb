{
 "cells": [
  {
   "cell_type": "code",
   "execution_count": 4,
   "metadata": {},
   "outputs": [
    {
     "data": {
      "application/vnd.jupyter.widget-view+json": {
       "model_id": "e76684ecb2534f909eee1673d7f05ad4",
       "version_major": 2,
       "version_minor": 0
      },
      "text/plain": [
       "  0%|          | 0/100 [00:00<?, ?it/s]"
      ]
     },
     "metadata": {},
     "output_type": "display_data"
    },
    {
     "name": "stdout",
     "output_type": "stream",
     "text": [
      "0.9943682073176954\n",
      "1.0014677091887252\n"
     ]
    }
   ],
   "source": [
    "import numpy as np\n",
    "from exputils.st_norm import compute_st_norm\n",
    "from exputils.RoM.fwht import calculate_RoM_FWHT\n",
    "from exputils.state.random import make_random_quantum_state\n",
    "from tqdm.auto import tqdm\n",
    "\n",
    "n_qubit = 8\n",
    "SEED_CNT = 100\n",
    "\n",
    "RoMs = []\n",
    "st_norms = []\n",
    "ratios = []\n",
    "ratios_per_qubit = []\n",
    "\n",
    "for seed in tqdm(range(SEED_CNT)):\n",
    "    rho_vec = make_random_quantum_state(\"mixed\", n_qubit, seed)\n",
    "    st_norm = compute_st_norm(rho_vec)\n",
    "    assert np.isclose(st_norm, np.linalg.norm(rho_vec, ord=1) / (2**n_qubit))\n",
    "    R_FWHT = calculate_RoM_FWHT(n_qubit, rho_vec)[0]\n",
    "    ratios.append(R_FWHT / (2 ** (n_qubit / 2) * st_norm))\n",
    "\n",
    "print(np.min(ratios))\n",
    "print(np.max(ratios))"
   ]
  },
  {
   "cell_type": "markdown",
   "metadata": {},
   "source": [
    "for ten qubits random mixed quantum state,\n",
    "\n",
    "$$\n",
    "    0.994 \\leq \n",
    "    \\frac{\\mathcal{R}(\\rho)}{2^{n/2}||\\rho||_{\\text{st}}}\n",
    "    \\leq 1.002\n",
    "$$\n"
   ]
  }
 ],
 "metadata": {
  "kernelspec": {
   "display_name": "StabilizerSimulator",
   "language": "python",
   "name": "python3"
  },
  "language_info": {
   "codemirror_mode": {
    "name": "ipython",
    "version": 3
   },
   "file_extension": ".py",
   "mimetype": "text/x-python",
   "name": "python",
   "nbconvert_exporter": "python",
   "pygments_lexer": "ipython3",
   "version": "3.10.4"
  },
  "orig_nbformat": 4
 },
 "nbformat": 4,
 "nbformat_minor": 2
}
