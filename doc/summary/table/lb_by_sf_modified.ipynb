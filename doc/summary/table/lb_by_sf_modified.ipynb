{
 "cells": [
  {
   "cell_type": "code",
   "execution_count": 1,
   "metadata": {},
   "outputs": [],
   "source": [
    "import numpy as np\n",
    "from exputils.dot.dot_product import compute_all_dot_products\n",
    "from exputils.RoM.dot import calculate_RoM_dot\n",
    "from exputils.state.random import make_random_quantum_state"
   ]
  },
  {
   "cell_type": "markdown",
   "metadata": {},
   "source": [
    "Calculate purity from Pauli vector"
   ]
  },
  {
   "cell_type": "code",
   "execution_count": 2,
   "metadata": {},
   "outputs": [
    {
     "name": "stdout",
     "output_type": "stream",
     "text": [
      "1 ok\n",
      "2 ok\n",
      "3 ok\n",
      "4 ok\n",
      "5 ok\n"
     ]
    }
   ],
   "source": [
    "from exputils.state.random import (\n",
    "    _make_random_mixed_density_matrix,\n",
    "    _make_random_pure_density_matrix,\n",
    "    state_in_pauli_basis,\n",
    ")\n",
    "\n",
    "\n",
    "def purity(n_qubit, rho_vec):\n",
    "    return np.dot(rho_vec, rho_vec) / 2**n_qubit\n",
    "\n",
    "\n",
    "for n_qubit in range(1, 5 + 1):\n",
    "    # pure\n",
    "    for seed in range(100):\n",
    "        pure_dm = _make_random_pure_density_matrix(n_qubit, seed)\n",
    "        purity_from_dm = np.trace(pure_dm @ pure_dm)\n",
    "        pure_pv = state_in_pauli_basis(pure_dm)\n",
    "        purity_from_pv = purity(n_qubit, pure_pv)\n",
    "        assert abs(purity_from_dm - purity_from_pv) < 10**-8\n",
    "        assert abs(purity_from_dm - 1) < 10**-8\n",
    "    # mixed\n",
    "    for seed in range(100):\n",
    "        mixed_dm = _make_random_mixed_density_matrix(n_qubit, seed)\n",
    "        purity_from_dm = np.trace(mixed_dm @ mixed_dm)\n",
    "        mixed_pv = state_in_pauli_basis(mixed_dm)\n",
    "        purity_from_pv = purity(n_qubit, mixed_pv)\n",
    "        assert abs(purity_from_dm - purity_from_pv) < 10**-8\n",
    "    print(n_qubit, \"ok\")"
   ]
  },
  {
   "cell_type": "code",
   "execution_count": 3,
   "metadata": {},
   "outputs": [],
   "source": [
    "def lb_by_dot(n_qubit, rho_vec):\n",
    "    dots = compute_all_dot_products(n_qubit, rho_vec)\n",
    "    dp = np.max(dots)\n",
    "    dm = np.min(dots)\n",
    "    assert np.isclose(rho_vec.T @ rho_vec, np.linalg.norm(rho_vec, ord=2) ** 2)\n",
    "    return 1 + 2 * max(0, (np.linalg.norm(rho_vec, ord=2) ** 2 - dp) / (dp - dm))\n",
    "\n",
    "\n",
    "def lb_by_stabilizer_fidelity(n_qubit, rho_vec):\n",
    "    dots = compute_all_dot_products(n_qubit, rho_vec)\n",
    "    stabilizer_fidelity = np.max(dots) / (2**n_qubit)\n",
    "    return purity(n_qubit, rho_vec) / stabilizer_fidelity"
   ]
  },
  {
   "cell_type": "markdown",
   "metadata": {},
   "source": [
    "In \"Simulation of quantum circuits by low-rank stabilizer decompositions\"\n",
    "\n",
    "(Sergey Bravyi, Dan Browne, Padraic Calpin, Earl Campbell, David Gosset, and Mark Howard)\n",
    "\n",
    "It is said that $F(T) \\approx 0.853$.\n",
    "\n",
    "We confirm this.\n"
   ]
  },
  {
   "cell_type": "code",
   "execution_count": 4,
   "metadata": {},
   "outputs": [
    {
     "name": "stdout",
     "output_type": "stream",
     "text": [
      "0.8535533905932737\n"
     ]
    }
   ],
   "source": [
    "from exputils.state.tensor import make_random_tensor_product_state\n",
    "\n",
    "n_qubit = 1\n",
    "rho_vec = make_random_tensor_product_state(\"H\", n_qubit, seed=0)\n",
    "dots = compute_all_dot_products(n_qubit, rho_vec)\n",
    "stabilizer_fidelity = np.max(dots) / (2**n_qubit)\n",
    "print(stabilizer_fidelity)"
   ]
  },
  {
   "cell_type": "code",
   "execution_count": 5,
   "metadata": {},
   "outputs": [
    {
     "name": "stdout",
     "output_type": "stream",
     "text": [
      "1\n",
      "========== kind='pure' ==========\n",
      "Set parameter Username\n",
      "Academic license - for non-commercial use only - expires 2024-06-16\n",
      "lb_sf=1.1411099356282524 RoM=1.5451005656365662 lb_sf <= RoM=True\n",
      "lb_sf=1.170615797495209 RoM=1.6645578485498636 lb_sf <= RoM=True\n",
      "lb_sf=1.0450586802552697 RoM=1.423146437112564 lb_sf <= RoM=True\n",
      "lb_sf=1.0598271805699049 RoM=1.5353615356419994 lb_sf <= RoM=True\n",
      "lb_sf=1.0940137279323066 RoM=1.4695565407451046 lb_sf <= RoM=True\n",
      "lb_sf=1.1208764815663035 RoM=1.6421580587760896 lb_sf <= RoM=True\n",
      "lb_sf=1.0895762686275636 RoM=1.6121758902757246 lb_sf <= RoM=True\n",
      "lb_sf=1.1614754261546862 RoM=1.5822233576575728 lb_sf <= RoM=True\n",
      "lb_sf=1.1082210427085017 RoM=1.642822070155682 lb_sf <= RoM=True\n",
      "lb_sf=1.2237749963500277 RoM=1.7203677972688054 lb_sf <= RoM=True\n",
      "========== kind='mixed' ==========\n",
      "lb_sf=1.0432828705438035 RoM=1.393184077027386 lb_sf <= RoM=True\n",
      "lb_sf=0.940893371829701 RoM=1.0 lb_sf <= RoM=True\n",
      "lb_sf=0.9178081867498779 RoM=0.9999999999999999 lb_sf <= RoM=True\n",
      "lb_sf=0.9571799892355422 RoM=1.1698576242318866 lb_sf <= RoM=True\n",
      "lb_sf=0.8399465001141723 RoM=1.0 lb_sf <= RoM=True\n",
      "lb_sf=0.9020733797784568 RoM=1.0 lb_sf <= RoM=True\n",
      "lb_sf=1.1163949327127962 RoM=1.625778289945112 lb_sf <= RoM=True\n",
      "lb_sf=0.8599582318765634 RoM=1.0 lb_sf <= RoM=True\n",
      "lb_sf=0.8984323189089359 RoM=1.0000000000000002 lb_sf <= RoM=True\n",
      "lb_sf=1.0334366454248691 RoM=1.4366149609582286 lb_sf <= RoM=True\n",
      "2\n",
      "========== kind='pure' ==========\n",
      "lb_sf=1.4860003643897997 RoM=2.191514933293292 lb_sf <= RoM=True\n",
      "lb_sf=1.3050673749089412 RoM=2.0663255001938285 lb_sf <= RoM=True\n",
      "lb_sf=1.2565966346027635 RoM=2.089636319425095 lb_sf <= RoM=True\n",
      "lb_sf=1.327301188602628 RoM=2.167651648564864 lb_sf <= RoM=True\n",
      "lb_sf=1.253773921282037 RoM=2.09233690287823 lb_sf <= RoM=True\n",
      "lb_sf=1.1989122733095308 RoM=1.9854473340070558 lb_sf <= RoM=True\n",
      "lb_sf=1.2933643588937136 RoM=2.067862082633592 lb_sf <= RoM=True\n",
      "lb_sf=1.350923038006937 RoM=2.136414129955375 lb_sf <= RoM=True\n",
      "lb_sf=1.2234328371425978 RoM=1.986721550165488 lb_sf <= RoM=True\n",
      "lb_sf=1.2990713872796584 RoM=1.9133455401122652 lb_sf <= RoM=True\n",
      "========== kind='mixed' ==========\n",
      "lb_sf=1.0236976016794006 RoM=1.459399923312362 lb_sf <= RoM=True\n",
      "lb_sf=0.8110631755981118 RoM=1.2860224417236799 lb_sf <= RoM=True\n",
      "lb_sf=0.900853874906365 RoM=1.1990643551617235 lb_sf <= RoM=True\n",
      "lb_sf=0.9614642626766162 RoM=1.2702806014689592 lb_sf <= RoM=True\n",
      "lb_sf=0.8786692680694989 RoM=1.138208743396933 lb_sf <= RoM=True\n",
      "lb_sf=0.8502952121439359 RoM=1.13464263916764 lb_sf <= RoM=True\n",
      "lb_sf=0.9748747728237424 RoM=1.4662828307580467 lb_sf <= RoM=True\n",
      "lb_sf=0.882305110237366 RoM=1.296828549675101 lb_sf <= RoM=True\n",
      "lb_sf=0.7730528507168095 RoM=1.1345389151764391 lb_sf <= RoM=True\n",
      "lb_sf=0.8741571940291755 RoM=1.2827920819364915 lb_sf <= RoM=True\n",
      "3\n",
      "========== kind='pure' ==========\n",
      "lb_sf=1.5628204620828612 RoM=2.962254645080925 lb_sf <= RoM=True\n",
      "lb_sf=1.620095216848512 RoM=2.9680632726701686 lb_sf <= RoM=True\n",
      "lb_sf=1.3720452428410639 RoM=2.6568669477074285 lb_sf <= RoM=True\n",
      "lb_sf=1.4393932589670337 RoM=2.7791675907760633 lb_sf <= RoM=True\n",
      "lb_sf=1.536773765357976 RoM=2.8776809626899236 lb_sf <= RoM=True\n",
      "lb_sf=1.3805795685346172 RoM=2.73830603074913 lb_sf <= RoM=True\n",
      "lb_sf=1.3656816916038852 RoM=2.633819068994955 lb_sf <= RoM=True\n",
      "lb_sf=1.4804759716867448 RoM=2.8657507679813565 lb_sf <= RoM=True\n",
      "lb_sf=1.4095188805546948 RoM=2.7882956932450687 lb_sf <= RoM=True\n",
      "lb_sf=1.5526518972828867 RoM=3.0400792983898346 lb_sf <= RoM=True\n",
      "========== kind='mixed' ==========\n",
      "lb_sf=0.8602798016484668 RoM=1.5384762815125896 lb_sf <= RoM=True\n",
      "lb_sf=0.9493941016951422 RoM=1.3867994491964142 lb_sf <= RoM=True\n",
      "lb_sf=0.9268141689585506 RoM=1.2349617322190434 lb_sf <= RoM=True\n",
      "lb_sf=0.8346549375015028 RoM=1.2410647514294184 lb_sf <= RoM=True\n",
      "lb_sf=0.8290160737063386 RoM=1.2689159068287044 lb_sf <= RoM=True\n",
      "lb_sf=0.9000266947470563 RoM=1.2832564514972629 lb_sf <= RoM=True\n",
      "lb_sf=0.8674307411598131 RoM=1.3440225802775132 lb_sf <= RoM=True\n",
      "lb_sf=0.9232014907692594 RoM=1.258156112158684 lb_sf <= RoM=True\n",
      "lb_sf=0.8955960868464665 RoM=1.3062998555872236 lb_sf <= RoM=True\n",
      "lb_sf=0.8729227745889523 RoM=1.4178056592068025 lb_sf <= RoM=True\n",
      "4\n",
      "========== kind='pure' ==========\n",
      "lb_sf=1.7848266417977787 RoM=4.33185482488773 lb_sf <= RoM=True\n",
      "lb_sf=2.0879616272346206 RoM=4.302359569370492 lb_sf <= RoM=True\n",
      "lb_sf=1.967460051864617 RoM=4.381970215694796 lb_sf <= RoM=True\n",
      "lb_sf=1.679179218687282 RoM=4.230197583759635 lb_sf <= RoM=True\n",
      "lb_sf=1.694296588564429 RoM=4.229475127945374 lb_sf <= RoM=True\n",
      "lb_sf=1.915026586403318 RoM=4.332809129965168 lb_sf <= RoM=True\n",
      "lb_sf=2.135936687642714 RoM=4.517429721127862 lb_sf <= RoM=True\n",
      "lb_sf=1.7228550010730312 RoM=4.244393100644845 lb_sf <= RoM=True\n",
      "lb_sf=1.8867955901216766 RoM=4.301049017374339 lb_sf <= RoM=True\n",
      "lb_sf=2.060172114354628 RoM=4.4953090810535326 lb_sf <= RoM=True\n",
      "========== kind='mixed' ==========\n",
      "lb_sf=0.9356083041632696 RoM=1.3796759521106399 lb_sf <= RoM=True\n",
      "lb_sf=0.8575515742393726 RoM=1.3392737314549878 lb_sf <= RoM=True\n",
      "lb_sf=0.888835244393953 RoM=1.3823897543879609 lb_sf <= RoM=True\n",
      "lb_sf=0.8562632886558003 RoM=1.4967068495719207 lb_sf <= RoM=True\n",
      "lb_sf=0.9005499841621655 RoM=1.4136061620281213 lb_sf <= RoM=True\n",
      "lb_sf=0.9169440990026339 RoM=1.4825925949634862 lb_sf <= RoM=True\n",
      "lb_sf=0.9269260248768021 RoM=1.4813945967766595 lb_sf <= RoM=True\n",
      "lb_sf=0.8557133566830176 RoM=1.3698872758607128 lb_sf <= RoM=True\n",
      "lb_sf=0.9740505368194095 RoM=1.421214511894797 lb_sf <= RoM=True\n",
      "lb_sf=0.8709738867295572 RoM=1.40632976498875 lb_sf <= RoM=True\n"
     ]
    }
   ],
   "source": [
    "for n_qubit in range(1, 4 + 1):\n",
    "    print(n_qubit)\n",
    "    for kind in [\"pure\", \"mixed\"]:\n",
    "        print(\"=\" * 10, f\"{kind=}\", \"=\" * 10)\n",
    "        for seed in range(10):\n",
    "            rho_vec = make_random_quantum_state(kind, n_qubit, seed=seed)\n",
    "            RoM, coeff, Amat = calculate_RoM_dot(n_qubit, rho_vec, method=\"gurobi\")\n",
    "            lb_sf = lb_by_stabilizer_fidelity(n_qubit, rho_vec)\n",
    "            print(f\"{lb_sf=} {RoM=} {lb_sf <= RoM=}\")\n",
    "            assert lb_sf <= RoM"
   ]
  },
  {
   "cell_type": "code",
   "execution_count": null,
   "metadata": {},
   "outputs": [],
   "source": []
  }
 ],
 "metadata": {
  "kernelspec": {
   "display_name": "StabilizerSimulator",
   "language": "python",
   "name": "python3"
  },
  "language_info": {
   "codemirror_mode": {
    "name": "ipython",
    "version": 3
   },
   "file_extension": ".py",
   "mimetype": "text/x-python",
   "name": "python",
   "nbconvert_exporter": "python",
   "pygments_lexer": "ipython3",
   "version": "3.10.12"
  },
  "orig_nbformat": 4
 },
 "nbformat": 4,
 "nbformat_minor": 2
}
