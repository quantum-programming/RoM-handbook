{
 "cells": [
  {
   "cell_type": "code",
   "execution_count": 1,
   "metadata": {},
   "outputs": [
    {
     "name": "stdout",
     "output_type": "stream",
     "text": [
      "1  100.000 B (100 B)\n",
      "2  876.000 B (876 B)\n",
      "3    9.355 KiB (9,580 B)\n",
      "4  131.852 KiB (135,016 B)\n",
      "5    2.762 MiB (2,896,060 B)\n",
      "6   90.636 MiB (95,038,494 B)\n",
      "7    4.908 GiB (5,269,998,136 B)\n"
     ]
    }
   ],
   "source": [
    "from exputils.perm_Amat import get_perm_Amat\n",
    "\n",
    "\n",
    "def check_each_memory(n):\n",
    "    Amat = get_perm_Amat(n)\n",
    "    return (Amat.data.nbytes, Amat.indices.nbytes, Amat.indptr.nbytes)\n",
    "\n",
    "\n",
    "# estimate the memory\n",
    "unit = [\"B\", \"KiB\", \"MiB\", \"GiB\", \"TiB\", \"PiB\"]\n",
    "for n in range(1, 7 + 1):\n",
    "    memory = sum(check_each_memory(n))\n",
    "    exponent = 0\n",
    "    tmp = memory\n",
    "    while tmp / 1024 >= 1:\n",
    "        tmp /= 1024\n",
    "        exponent += 1\n",
    "    print(n, f\"{tmp:>8.3f} {unit[exponent]} ({memory:,} B)\")"
   ]
  },
  {
   "cell_type": "code",
   "execution_count": null,
   "metadata": {},
   "outputs": [],
   "source": []
  }
 ],
 "metadata": {
  "kernelspec": {
   "display_name": ".venv",
   "language": "python",
   "name": "python3"
  },
  "language_info": {
   "codemirror_mode": {
    "name": "ipython",
    "version": 3
   },
   "file_extension": ".py",
   "mimetype": "text/x-python",
   "name": "python",
   "nbconvert_exporter": "python",
   "pygments_lexer": "ipython3",
   "version": "3.10.12"
  },
  "orig_nbformat": 4
 },
 "nbformat": 4,
 "nbformat_minor": 2
}
