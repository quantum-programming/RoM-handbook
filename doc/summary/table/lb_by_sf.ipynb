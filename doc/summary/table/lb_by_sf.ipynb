{
 "cells": [
  {
   "cell_type": "code",
   "execution_count": 6,
   "metadata": {},
   "outputs": [],
   "source": [
    "import numpy as np\n",
    "from exputils.dot.dot_product import compute_all_dot_products\n",
    "from exputils.RoM.dot import calculate_RoM_dot\n",
    "from exputils.state.random import make_random_quantum_state"
   ]
  },
  {
   "cell_type": "code",
   "execution_count": 7,
   "metadata": {},
   "outputs": [],
   "source": [
    "def lb_by_dot(n_qubit, rho_vec):\n",
    "    dots = compute_all_dot_products(n_qubit, rho_vec)\n",
    "    dp = np.max(dots)\n",
    "    dm = np.min(dots)\n",
    "    assert np.isclose(rho_vec.T @ rho_vec, np.linalg.norm(rho_vec, ord=2) ** 2)\n",
    "    return 1 + 2 * max(0, (np.linalg.norm(rho_vec, ord=2) ** 2 - dp) / (dp - dm))\n",
    "\n",
    "\n",
    "def lb_by_stabilizer_fidelity(n_qubit, rho_vec):\n",
    "    # valid only when the state is pure\n",
    "    dots = compute_all_dot_products(n_qubit, rho_vec)\n",
    "    stabilizer_fidelity = np.max(dots) / (2**n_qubit)\n",
    "    return 1 / stabilizer_fidelity"
   ]
  },
  {
   "cell_type": "markdown",
   "metadata": {},
   "source": [
    "In \"Simulation of quantum circuits by low-rank stabilizer decompositions\"\n",
    "\n",
    "(Sergey Bravyi, Dan Browne, Padraic Calpin, Earl Campbell, David Gosset, and Mark Howard)\n",
    "\n",
    "It is said that $F(T) \\approx 0.853$.\n",
    "\n",
    "We confirm this.\n"
   ]
  },
  {
   "cell_type": "code",
   "execution_count": 8,
   "metadata": {},
   "outputs": [
    {
     "name": "stdout",
     "output_type": "stream",
     "text": [
      "0.8535533905932737\n"
     ]
    }
   ],
   "source": [
    "from exputils.state.tensor import make_random_tensor_product_state\n",
    "\n",
    "n_qubit = 1\n",
    "rho_vec = make_random_tensor_product_state(\"H\", n_qubit, seed=0)\n",
    "dots = compute_all_dot_products(n_qubit, rho_vec)\n",
    "stabilizer_fidelity = np.max(dots) / (2**n_qubit)\n",
    "print(stabilizer_fidelity)"
   ]
  },
  {
   "cell_type": "code",
   "execution_count": 9,
   "metadata": {},
   "outputs": [
    {
     "name": "stdout",
     "output_type": "stream",
     "text": [
      "========== kind='pure' ==========\n",
      "lb_sf=1.7848266417977803 RoM=4.331854824887728 lb_sf <= RoM=True\n",
      "lb_sf=2.0879616272346215 RoM=4.302359569370483 lb_sf <= RoM=True\n",
      "lb_sf=1.9674600518646173 RoM=4.381970215694802 lb_sf <= RoM=True\n",
      "lb_sf=1.6791792186872825 RoM=4.230197583759634 lb_sf <= RoM=True\n",
      "lb_sf=1.6942965885644286 RoM=4.22947512794538 lb_sf <= RoM=True\n",
      "lb_sf=1.9150265864033158 RoM=4.332809129965167 lb_sf <= RoM=True\n",
      "lb_sf=2.1359366876427126 RoM=4.517429721127863 lb_sf <= RoM=True\n",
      "lb_sf=1.72285500107303 RoM=4.244393100644842 lb_sf <= RoM=True\n",
      "lb_sf=1.8867955901216782 RoM=4.301049017374336 lb_sf <= RoM=True\n",
      "lb_sf=2.0601721143546285 RoM=4.495309081053528 lb_sf <= RoM=True\n",
      "========== kind='mixed' ==========\n",
      "lb_sf=8.090671610821515 RoM=1.37967595211064 lb_sf <= RoM=False\n"
     ]
    },
    {
     "ename": "AssertionError",
     "evalue": "",
     "output_type": "error",
     "traceback": [
      "\u001b[1;31m---------------------------------------------------------------------------\u001b[0m",
      "\u001b[1;31mAssertionError\u001b[0m                            Traceback (most recent call last)",
      "\u001b[1;32mc:\\Users\\hirok\\OneDrive\\ドキュメント\\バイト\\量子\\stabilizer_simulator\\doc\\summary\\table\\why_dot_is_good.ipynb Cell 5\u001b[0m line \u001b[0;36m1\n\u001b[0;32m      <a href='vscode-notebook-cell:/c%3A/Users/hirok/OneDrive/%E3%83%89%E3%82%AD%E3%83%A5%E3%83%A1%E3%83%B3%E3%83%88/%E3%83%90%E3%82%A4%E3%83%88/%E9%87%8F%E5%AD%90/stabilizer_simulator/doc/summary/table/why_dot_is_good.ipynb#W2sZmlsZQ%3D%3D?line=7'>8</a>\u001b[0m lb_sf \u001b[39m=\u001b[39m lb_by_stabilizer_fidelity(n_qubit, rho_vec)\n\u001b[0;32m      <a href='vscode-notebook-cell:/c%3A/Users/hirok/OneDrive/%E3%83%89%E3%82%AD%E3%83%A5%E3%83%A1%E3%83%B3%E3%83%88/%E3%83%90%E3%82%A4%E3%83%88/%E9%87%8F%E5%AD%90/stabilizer_simulator/doc/summary/table/why_dot_is_good.ipynb#W2sZmlsZQ%3D%3D?line=8'>9</a>\u001b[0m \u001b[39mprint\u001b[39m(\u001b[39mf\u001b[39m\u001b[39m\"\u001b[39m\u001b[39m{\u001b[39;00mlb_sf\u001b[39m=}\u001b[39;00m\u001b[39m \u001b[39m\u001b[39m{\u001b[39;00mRoM\u001b[39m=}\u001b[39;00m\u001b[39m \u001b[39m\u001b[39m{\u001b[39;00mlb_sf \u001b[39m<\u001b[39m\u001b[39m=\u001b[39m RoM\u001b[39m=}\u001b[39;00m\u001b[39m\"\u001b[39m)\n\u001b[1;32m---> <a href='vscode-notebook-cell:/c%3A/Users/hirok/OneDrive/%E3%83%89%E3%82%AD%E3%83%A5%E3%83%A1%E3%83%B3%E3%83%88/%E3%83%90%E3%82%A4%E3%83%88/%E9%87%8F%E5%AD%90/stabilizer_simulator/doc/summary/table/why_dot_is_good.ipynb#W2sZmlsZQ%3D%3D?line=9'>10</a>\u001b[0m \u001b[39massert\u001b[39;00m lb_sf \u001b[39m<\u001b[39m\u001b[39m=\u001b[39m RoM\n",
      "\u001b[1;31mAssertionError\u001b[0m: "
     ]
    }
   ],
   "source": [
    "n_qubit = 4\n",
    "\n",
    "for kind in [\"pure\", \"mixed\"]:\n",
    "    print(\"=\" * 10, f\"{kind=}\", \"=\" * 10)\n",
    "    for seed in range(10):\n",
    "        rho_vec = make_random_quantum_state(kind, n_qubit, seed=seed)\n",
    "        RoM, coeff, Amat = calculate_RoM_dot(n_qubit, rho_vec, method=\"gurobi\")\n",
    "        lb_sf = lb_by_stabilizer_fidelity(n_qubit, rho_vec)\n",
    "        print(f\"{lb_sf=} {RoM=} {lb_sf <= RoM=}\")\n",
    "        assert lb_sf <= RoM"
   ]
  }
 ],
 "metadata": {
  "kernelspec": {
   "display_name": "StabilizerSimulator",
   "language": "python",
   "name": "python3"
  },
  "language_info": {
   "codemirror_mode": {
    "name": "ipython",
    "version": 3
   },
   "file_extension": ".py",
   "mimetype": "text/x-python",
   "name": "python",
   "nbconvert_exporter": "python",
   "pygments_lexer": "ipython3",
   "version": "3.10.11"
  },
  "orig_nbformat": 4
 },
 "nbformat": 4,
 "nbformat_minor": 2
}
